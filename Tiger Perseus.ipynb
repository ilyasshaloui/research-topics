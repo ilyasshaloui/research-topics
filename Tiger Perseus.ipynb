{
 "cells": [
  {
   "cell_type": "markdown",
   "metadata": {},
   "source": [
    "# Tutorial on how to solve POMDP"
   ]
  },
  {
   "cell_type": "markdown",
   "metadata": {},
   "source": [
    "This is a tutorial on how to solve a POMDP in python with [PERSEUS solver](https://arxiv.org/pdf/1109.2145.pdf) . It is tested on the tiger problem"
   ]
  },
  {
   "cell_type": "markdown",
   "metadata": {},
   "source": [
    "### Intuition behind POMDP\n",
    "\n",
    "- The state set represents all the possible underlying states the process can be in, though this state is not directly observable.\n",
    "- The action set is all the available control choices at each point in time.\n",
    "- The observation set consists of all the possible observations that the process can emit. The state transition function encodes the uncertainty in the process state evolution, while the observation function relates the process outputs (observations) to the true underlying state of the process.\n",
    "- Finally, the reward function gives the immediate utility for performing an action in each of the underlying process states."
   ]
  },
  {
   "cell_type": "markdown",
   "metadata": {},
   "source": [
    "### Formal Definition\n",
    "\n",
    "A Partially Observable Markov Decision Process (POMDP) is a tuple  $(S, A, T, R, \\gamma, {\\cal O} , \\Omega)$ where: \n",
    "\n",
    "- $S$ is the set of possible states for the system\n",
    "- $A$ is the set of possible actions\n",
    "- $T$: $S\\times A \\times S \\mapsto [0,1]$ corresponds the system dynamics and is reprensented by $P(s' | s, a)$\n",
    "- $R$: $S \\times A \\mapsto \\mathbb{R}$ is the reward function\n",
    "- $\\Omega$ is a set of observations\n",
    "- $O$: $\\Omega \\times S \\times A \\mapsto [0,1] $ corresponds to the dynamics of what can be observed to the agent and can be represented by $P(o|s',a)$ \n",
    "\n",
    "\n",
    "The <span style=\"color:red\">belief</span> $\\textbf{b}_0$ represents the probability distribution over states in the first iteration. In the iteration at $t$, the belief is defined by :  $ \\textbf{b}_t(s) = P(s_t = s| o_t , a_{t-1}, ... , a_0 )$, but can be approximated by $b_o^a(s') =\\frac{p(o|s',a) }{p(o|\\textbf{b},a)}\\sum_s p(s'|s,a)b(s) $ if $o$ was the last received observation and $a$ the action that led to this observation. \n"
   ]
  },
  {
   "cell_type": "markdown",
   "metadata": {},
   "source": [
    "### Usage\n",
    "\n",
    "We want to use this model to derive a control $\\textit{policy}$ denoted $\\pi : B \\mapsto A$ that will yield the greatest amount of utility over some number of decision steps. \n",
    "\n",
    "This model can be used as suggested in [A Survey of POMDP Applications](http://www.pomdp.org/papers/applications.pdf) for:\n",
    "- Machine maintenance policy \n",
    "- Structural inspection policy \n",
    "- Elevator control policies\n",
    "- ...\n",
    "- Medical diagnosis\n",
    "- Health Care Policymaking\n",
    "\n",
    "\n",
    "Algorithms using (PO)MDP are a subfield of artificial intelligence."
   ]
  },
  {
   "cell_type": "markdown",
   "metadata": {},
   "source": [
    "## Toy example: Tiger problem"
   ]
  },
  {
   "cell_type": "markdown",
   "metadata": {},
   "source": [
    "Let's consider a simple example, the famous \"Tiger Problem\" used in POMDP.\n",
    "\n",
    " A tiger is put with equal probability behind one of two doors, while treasure is put behind the other one. You are standing in front of the two closed doors and need to decide which one to open. If you open the door with the tiger, you will get hurt by the tiger (negative reward), but if you open the door with the treasure, you receive a positive reward. Instead of opening a door right away, you also have the option to wait and listen for tiger noises. But listening is neither free nor entirely accurate. You might hear the tiger behind the left door while it is actually behind the right door and vice versa"
   ]
  },
  {
   "cell_type": "code",
   "execution_count": 1,
   "metadata": {},
   "outputs": [],
   "source": [
    "import pandas as pd\n",
    "import numpy as np\n",
    "import matplotlib.pyplot as plt\n",
    "import random"
   ]
  },
  {
   "cell_type": "code",
   "execution_count": 16,
   "metadata": {},
   "outputs": [],
   "source": [
    "prob_right = 0.5\n",
    "prob_obs = 0.85\n",
    "\n",
    "states = ['tiger_left','tiger_right']\n",
    "actions = ['listen','open_left', 'open_right']\n",
    "observations = ['noise_left','noise_right']\n",
    "T_a1 = pd.DataFrame({states[0]:[1-prob_right,1-prob_right] , states[1]:[prob_right,prob_right]},index = states)\n",
    "T_a2 = T_a1\n",
    "O_a1 = pd.DataFrame({observations[0]:[1-prob_right,1-prob_right] , observations[1]:[prob_right,prob_right]},index = states)\n",
    "O_a2 = O_a1\n",
    "T_a0 = pd.DataFrame({states[0]:[1,0] , states[1]:[0,1]},index = states)\n",
    "O_a0 = pd.DataFrame({observations[0]:[prob_obs,1-prob_obs] , observations[1]:[1-prob_obs,prob_obs]},index = states)\n",
    "\n",
    "R = pd.DataFrame({actions[0]:[-1, -1],actions[1]:[-100 , 10],actions[2]:[10, -100]},index = states)\n",
    "O = {actions[0]:O_a0, actions[1]:O_a1,  actions[2]:O_a2}\n",
    "T = {actions[0]:T_a0, actions[1]:T_a1,  actions[2]:T_a2}"
   ]
  },
  {
   "cell_type": "code",
   "execution_count": 17,
   "metadata": {},
   "outputs": [
    {
     "data": {
      "text/html": [
       "<div>\n",
       "<style scoped>\n",
       "    .dataframe tbody tr th:only-of-type {\n",
       "        vertical-align: middle;\n",
       "    }\n",
       "\n",
       "    .dataframe tbody tr th {\n",
       "        vertical-align: top;\n",
       "    }\n",
       "\n",
       "    .dataframe thead th {\n",
       "        text-align: right;\n",
       "    }\n",
       "</style>\n",
       "<table border=\"1\" class=\"dataframe\">\n",
       "  <thead>\n",
       "    <tr style=\"text-align: right;\">\n",
       "      <th></th>\n",
       "      <th>listen</th>\n",
       "      <th>open_left</th>\n",
       "      <th>open_right</th>\n",
       "    </tr>\n",
       "  </thead>\n",
       "  <tbody>\n",
       "    <tr>\n",
       "      <th>tiger_left</th>\n",
       "      <td>-1</td>\n",
       "      <td>-100</td>\n",
       "      <td>10</td>\n",
       "    </tr>\n",
       "    <tr>\n",
       "      <th>tiger_right</th>\n",
       "      <td>-1</td>\n",
       "      <td>10</td>\n",
       "      <td>-100</td>\n",
       "    </tr>\n",
       "  </tbody>\n",
       "</table>\n",
       "</div>"
      ],
      "text/plain": [
       "             listen  open_left  open_right\n",
       "tiger_left       -1       -100          10\n",
       "tiger_right      -1         10        -100"
      ]
     },
     "execution_count": 17,
     "metadata": {},
     "output_type": "execute_result"
    }
   ],
   "source": [
    "R"
   ]
  },
  {
   "cell_type": "markdown",
   "metadata": {},
   "source": [
    "## Solving with Perseus:"
   ]
  },
  {
   "cell_type": "markdown",
   "metadata": {},
   "source": [
    "Perseus is a randomized point-based solver for POMDP that focuses on the notion of value $V$.\n",
    "\n",
    "The value of a given policy $\\pi$ is defined as \n",
    "- $V_{\\pi} = E_{\\pi} [\\sum_t \\gamma^t r(b_t ,\\pi(b_t)) | b_0 =b]$ where $r(b_t ,\\pi(b_t)) = \\sum_s r(s ,\\pi(b_t))b_t(s)$\n",
    "\n",
    "But it can be approximated by a PWLC function of vectors $\\{{\\alpha}_i^n\\}_{i}$ at stage $n$ of optimization\n",
    "-  $V_n(b) = max_{\\{{\\alpha}_i^n\\}_{i}}b.\\alpha_i^n$\n",
    "\n",
    "We want to find the optimum value function $V(b)^*$ for every belief to yield optimal actions\n",
    "\n",
    "First we have to initialize some variables such as the first alpha vectors and the value function (of the belief):\n",
    "- $\\alpha_0$ = $\\frac{1}{1-\\gamma}min_{s \\in S , a \\in A}R(s,a)$"
   ]
  },
  {
   "cell_type": "code",
   "execution_count": 18,
   "metadata": {},
   "outputs": [],
   "source": [
    "gamma = 0.95\n",
    "alpha0 = (1/(1-gamma))*np.min(R.values)\n",
    "V_0 = [([alpha0 for ii in range(len(states))],action) for action in actions ]"
   ]
  },
  {
   "cell_type": "markdown",
   "metadata": {},
   "source": [
    "Initially, the belief of being in any state is random. \n",
    "\n",
    "Suppose that we receive an observation $o$ after taking an action $a$. Then we can update the belief of our state $s'$: $b_o^a(s') =\\frac{p(o|s',a) }{p(o|\\textbf{b},a)}\\sum_s p(s'|s,a)b(s) $"
   ]
  },
  {
   "cell_type": "code",
   "execution_count": 27,
   "metadata": {},
   "outputs": [],
   "source": [
    "# This function returns the belief for every state\n",
    "b0 = pd.DataFrame([0.5,0.5],index = states)\n",
    "def update_belief(current_belief,observation,action):\n",
    "    b1_not_normed = []\n",
    "    for s_prime in states:\n",
    "        p_o_s_prime_a = O[action][observation][s_prime] # float\n",
    "        sum_p_sprime_s_a = T[action][s_prime].dot(current_belief)\n",
    "        b1_not_normed.append(p_o_s_prime_a*sum_p_sprime_s_a)\n",
    "    next_belief = b1_not_normed/np.sum(b1_not_normed)\n",
    "    return pd.DataFrame(next_belief,index = states) "
   ]
  },
  {
   "cell_type": "markdown",
   "metadata": {},
   "source": [
    "One important step when using Perseus is to build a set of reachable beliefs. To do so we simply simulate random policy starting from different states and record reached beliefs:"
   ]
  },
  {
   "cell_type": "code",
   "execution_count": 31,
   "metadata": {},
   "outputs": [],
   "source": [
    "def expand_belief(b0,N,M):\n",
    "    beliefs = [b0]\n",
    "    for i in range(M):\n",
    "        state = states[np.argmax(np.random.multinomial(1,[b0.values[i][0] for i in range(len(b0))],size= 1))]\n",
    "        belief = b0\n",
    "        for i in range(N):     \n",
    "            action = actions[np.random.randint(0,3)]\n",
    "            next_state = states[np.argmax(np.random.multinomial(1,T[action].T[state].values,size= 1))]\n",
    "            observation = observations[np.argmax(np.random.multinomial(1,O[action].T[next_state].values,size = 1))]\n",
    "            next_belief = update_belief(belief, observation, action)\n",
    "            state = next_state\n",
    "            belief = next_belief\n",
    "            if True not in [belief.equals(bb) for bb in beliefs]:\n",
    "                beliefs.append(belief)\n",
    "    return beliefs"
   ]
  },
  {
   "cell_type": "code",
   "execution_count": 32,
   "metadata": {},
   "outputs": [],
   "source": [
    "beliefs = expand_belief(b0,100,50)"
   ]
  },
  {
   "cell_type": "markdown",
   "metadata": {},
   "source": [
    "We also need to compute the backup given any belief point:\n",
    "\n",
    "- $\\alpha = backup(\\textbf{b})= arg \\max_{ \\{ g^b_a \\}_{a \\in A} } \\textbf{b}. \\textbf{g}^b_a$ which has the dimension of S\n",
    "- With $\\textbf{g}^b_a = r_a + \\gamma \\sum_o argmax_{\\{\\textbf{g}^i_{a,o}\\}_i} \\textbf{b}.\\textbf{g}^i_{a,o}$ of dimension S\n",
    "- And $g^i_{a,o}(s) = \\sum_{s'} p(o|s',a)p(s'|s,a)\\alpha^i_n(s')$\n"
   ]
  },
  {
   "cell_type": "code",
   "execution_count": 33,
   "metadata": {},
   "outputs": [],
   "source": [
    "#Starting with the last point, we compute the compute_g_a_o_i_s\n",
    "def compute_g_a_o_i_s(alpha_vector,observation,state,action):\n",
    "    seum = []\n",
    "    for state_prime in range(len(states)):\n",
    "        seum.append(O[action].T[states[state_prime]][observation] * T[action].T[state][states[state_prime]] * alpha_vector[0][state_prime])\n",
    "    g_a_o_i_s = sum(seum)\n",
    "    return g_a_o_i_s\n",
    "\n",
    "#Then we compute g_a_b:\n",
    "def compute_g_ab( belief ,V_n,action):\n",
    "    argmax_o_l = []\n",
    "    for o in observations:\n",
    "        \n",
    "    # For all alpha vectors alpha_i, we compute g_a_o_i (of dimension S)\n",
    "        list_gao_b = []\n",
    "        list_gao = []\n",
    "\n",
    "        for alpha_vector in V_n:\n",
    "            list_inter = []\n",
    "            for sss in states:\n",
    "                g_a_o_i_s  = compute_g_a_o_i_s(alpha_vector, o, sss,action)\n",
    "                list_inter.append(g_a_o_i_s)\n",
    "            g_a_o_i = pd.DataFrame(list_inter,index = states) \n",
    "            list_gao.append(g_a_o_i)\n",
    "            list_gao_b.append(g_a_o_i.T.dot(belief).values)\n",
    "        \n",
    "        best_gaoi = list_gao[np.argmax(list_gao_b)]\n",
    "        argmax_o_l.append(best_gaoi) \n",
    "    g_ab = R[action] + gamma*sum(argmax_o_l)[0]\n",
    "    \n",
    "    return g_ab \n",
    "            \n",
    "#We finally exploit the belief: \n",
    "def backup(belief,V_n):\n",
    "    b_g_ab_list = []\n",
    "    g_ab_list = []\n",
    "    action_list = []\n",
    "    for action in actions:\n",
    "        g_ab = compute_g_ab( belief, V_n,action )\n",
    "        g_ab_list.append(g_ab)\n",
    "        b_g_ab_list.append(g_ab.dot(belief))\n",
    "    backup = g_ab_list[np.argmax(b_g_ab_list)]\n",
    "    act = actions[np.argmax(b_g_ab_list)]\n",
    "    \n",
    "    return backup, act"
   ]
  },
  {
   "cell_type": "markdown",
   "metadata": {},
   "source": [
    "- Now we have all the bricks to perform PERSEUS backup stage $V_{n+1} = \\tilde{H}_{Perseus}V_n$ as defined in [the paper](https://arxiv.org/pdf/1109.2145.pdf):\n",
    "\n",
    " 1) Set $V_{n+1}$ to $\\emptyset$ , initialize $\\tilde{B}$ to $B$\n",
    "\n",
    " 2) Sample a belief point $b$ uniformly at random from $\\tilde{B}$ and compute $\\alpha = backup(b)$\n",
    " \n",
    " 3) if $b.\\alpha > V_{n}(b)$ then add $\\alpha$ to $V_{n+1}$, otherwise add $\\alpha' = arg max_{\\{ \\alpha_n^i\\}_{i}}b.\\alpha_i^n$ to $V_{n+1}$.\n",
    " \n",
    " 4) Compute $\\tilde{B} = \\{ b \\in B : V_{n+1}(b) < V_n(b)\\}$\n",
    " \n",
    " 5) If $\\tilde{B} = \\emptyset$ then stop, else go to 2)\n"
   ]
  },
  {
   "cell_type": "code",
   "execution_count": 34,
   "metadata": {},
   "outputs": [],
   "source": [
    "def perseus_backstage(beliefs,V_n):\n",
    "    compteur = 0\n",
    "    \n",
    "    #1\n",
    "    V_n1 = []\n",
    "    beliefs_tild = beliefs\n",
    "    \n",
    "    #2\n",
    "    while len(beliefs_tild) != 0:\n",
    "        belief = random.choice(beliefs_tild)\n",
    "        alpha_vector, action = backup(belief,V_n)\n",
    "        \n",
    "    #3  \n",
    "        #print(belief.T.dot(alpha_vector).values)\n",
    "        if belief.T.dot(alpha_vector).values > np.max([np.dot(alpha_i[0],belief ) for alpha_i in  V_n ]):\n",
    "            V_n1.append([alpha_vector.values,action])\n",
    "            \n",
    "        else:\n",
    "            argmax_list = []\n",
    "            for vec in [alpha[0] for alpha in V_n ]:\n",
    "                dot = np.dot(vec,belief)\n",
    "                argmax_list.append(dot)         \n",
    "            alpha_prime = V_n[np.argmax(argmax_list)]\n",
    "            V_n1.append(alpha_prime)\n",
    "        \n",
    "    #4\n",
    "        beliefs_tild = []\n",
    "        for b in beliefs:\n",
    "            V_n1_b = np.max([np.dot(alpha_i[0],b) for alpha_i in V_n1])\n",
    "            V_n_b = np.max([np.dot(alpha_i[0],b) for alpha_i in V_n ])            \n",
    "            if V_n1_b<V_n_b:\n",
    "                beliefs_tild.append(b)\n",
    "        \n",
    "        # Only for debugging\n",
    "        compteur = compteur+ 1 \n",
    "        if compteur > 300:\n",
    "            break\n",
    "    return V_n1 "
   ]
  },
  {
   "cell_type": "markdown",
   "metadata": {},
   "source": [
    "... and we can perform the optimization:"
   ]
  },
  {
   "cell_type": "code",
   "execution_count": 36,
   "metadata": {
    "scrolled": false
   },
   "outputs": [],
   "source": [
    "V_n = V_0\n",
    "for i in range(200):\n",
    "    V_n1 = perseus_backstage(beliefs,V_n)\n",
    "    V_n = V_n1"
   ]
  },
  {
   "cell_type": "code",
   "execution_count": 37,
   "metadata": {},
   "outputs": [
    {
     "data": {
      "text/plain": [
       "[[array([-81.71659902,  28.28340098]), 'open_left'],\n",
       " [array([24.57628198,  2.89537998]), 'listen'],\n",
       " [array([ 2.89537998, 24.57628198]), 'listen'],\n",
       " [array([ 28.28340098, -81.71659902]), 'open_right'],\n",
       " [array([19.2519694, 19.2519694]), 'listen']]"
      ]
     },
     "execution_count": 37,
     "metadata": {},
     "output_type": "execute_result"
    }
   ],
   "source": [
    "V_n"
   ]
  },
  {
   "cell_type": "markdown",
   "metadata": {},
   "source": [
    "### Policy evaluation on the tiger problem:"
   ]
  },
  {
   "cell_type": "markdown",
   "metadata": {},
   "source": [
    "To know if the algorithm converged well, we simulate the policy with the value function and visualize rewards:"
   ]
  },
  {
   "cell_type": "code",
   "execution_count": 46,
   "metadata": {},
   "outputs": [],
   "source": [
    "# listen\n",
    "def execute_policy(N,V,b0):\n",
    "    state = states[np.argmax(np.random.multinomial(1,[b0.values[i][0] for i in range(len(b0))],size= 1))]\n",
    "    Rew = 0\n",
    "    winners = 0\n",
    "    losers = 0\n",
    "    for i in range(N): \n",
    "        action = V[np.argmax([np.dot(alpha_i[0],b0) for alpha_i in V ])][1] \n",
    "        next_state = states[np.argmax(np.random.multinomial(1,T[action].T[state].values,size= 1))]\n",
    "        observation = observations[np.argmax(np.random.multinomial(1,O[action].T[next_state].values,size = 1))] # noise right\n",
    "        b1 = update_belief(b0,observation,action)\n",
    "        reward = R[action][state]\n",
    "        if reward == -100:\n",
    "            losers +=1\n",
    "        if reward == 10:\n",
    "            winners += 1\n",
    "        state = next_state\n",
    "        b0 = b1\n",
    "        #print(state,action,reward,observation)\n",
    "        #print(reward)\n",
    "        Rew = Rew+reward\n",
    "    print('You played with the tiger {} times, You have been eaten {} time(s) and survived {} time(s)'.format(N,losers,winners))\n",
    "    return Rew"
   ]
  },
  {
   "cell_type": "code",
   "execution_count": 47,
   "metadata": {},
   "outputs": [
    {
     "name": "stdout",
     "output_type": "stream",
     "text": [
      "You played with the tiger 50 times, You have been eaten 0 time(s) and survived 12 time(s)\n"
     ]
    }
   ],
   "source": [
    "Rew = execute_policy(50,V_n,b0)"
   ]
  },
  {
   "cell_type": "markdown",
   "metadata": {},
   "source": [
    "It seems good! Thanks for reading\n",
    "\n",
    "The approach is generalizable to other POMDP problems with resonable state and observation space sizes. \n",
    "\n",
    "We can compare the alpha vectors with other ones found with SARSOP or HSVI:"
   ]
  },
  {
   "cell_type": "code",
   "execution_count": 48,
   "metadata": {},
   "outputs": [
    {
     "data": {
      "text/plain": [
       "[[(24.6928, 3.01186), 'listen'],\n",
       " [(3.01202, 24.6924), 'listen'],\n",
       " [(19.3687, 19.3683), 'listen'],\n",
       " [(-81.6, 28.4), 'open_left'],\n",
       " [(28.3998, -81.6002), 'open_right']]"
      ]
     },
     "execution_count": 48,
     "metadata": {},
     "output_type": "execute_result"
    }
   ],
   "source": [
    "V_sarsop = [[(24.6928 ,3.01186 ),'listen' ],[(3.01202, 24.6924 ),'listen'],[(19.3687 ,19.3683),'listen'],[(-81.6 ,28.4),'open_left'],[(28.3998 ,-81.6002),'open_right']]\n",
    "V_sarsop"
   ]
  },
  {
   "cell_type": "markdown",
   "metadata": {},
   "source": [
    "### Classical illustration : "
   ]
  },
  {
   "cell_type": "code",
   "execution_count": 49,
   "metadata": {},
   "outputs": [
    {
     "data": {
      "image/png": "[encoded data removed]",
      "text/plain": [
       "<Figure size 432x288 with 1 Axes>"
      ]
     },
     "metadata": {},
     "output_type": "display_data"
    }
   ],
   "source": [
    "def plot_Vn(V_n):\n",
    "    max_value = []\n",
    "    for alpha_vec in V_n:\n",
    "        intercept = np.dot(alpha_vec[0],[0,1])\n",
    "        slope = np.dot(alpha_vec[0],[1,0]) - intercept\n",
    "        x = np.linspace(0,1,100)\n",
    "        y = slope*x + intercept\n",
    "        max_value.append(y)\n",
    "        if alpha_vec[1] == 'listen':\n",
    "            col = '--r'\n",
    "        if alpha_vec[1] == 'open_right':\n",
    "            col = '--b'\n",
    "        if alpha_vec[1] == 'open_left':\n",
    "            col = '--g'\n",
    "        \n",
    "        plt.plot(x,y,col,label = 'V( '+alpha_vec[1]+' )')\n",
    "    plt.xlabel('Belief \"Tiger left\"')\n",
    "    plt.ylabel('Value function')\n",
    "    plt.plot(x,np.maximum.reduce(max_value),'k',linewidth=3.0,label = 'V*')\n",
    "    plt.legend(loc = 'lower right')\n",
    "    plt.grid()\n",
    "    plt.show()\n",
    "    \n",
    "plot_Vn(V_n)"
   ]
  }
 ],
 "metadata": {
  "kernelspec": {
   "display_name": "Python 3",
   "language": "python",
   "name": "python3"
  },
  "language_info": {
   "codemirror_mode": {
    "name": "ipython",
    "version": 3
   },
   "file_extension": ".py",
   "mimetype": "text/x-python",
   "name": "python",
   "nbconvert_exporter": "python",
   "pygments_lexer": "ipython3",
   "version": "3.6.5"
  }
 },
 "nbformat": 4,
 "nbformat_minor": 2
}
